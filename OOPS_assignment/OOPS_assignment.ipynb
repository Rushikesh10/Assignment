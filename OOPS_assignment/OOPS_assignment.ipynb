{
  "nbformat": 4,
  "nbformat_minor": 0,
  "metadata": {
    "colab": {
      "name": "OOPS assignment.ipynb",
      "provenance": [],
      "collapsed_sections": []
    },
    "kernelspec": {
      "name": "python3",
      "display_name": "Python 3"
    }
  },
  "cells": [
    {
      "cell_type": "markdown",
      "metadata": {
        "id": "SsfNQutw4b4i",
        "colab_type": "text"
      },
      "source": [
        "## OOPS ASSIGNMENT"
      ]
    },
    {
      "cell_type": "code",
      "metadata": {
        "id": "eh5k4BVioD4k",
        "colab_type": "code",
        "colab": {}
      },
      "source": [
        "class A:\n",
        "  def test():\n",
        "    print(\"Class of A object\")\n",
        "    \n",
        "    "
      ],
      "execution_count": 0,
      "outputs": []
    },
    {
      "cell_type": "code",
      "metadata": {
        "id": "bN4qIgn3oIJg",
        "colab_type": "code",
        "colab": {}
      },
      "source": [
        "class B():\n",
        "    def test():\n",
        "      print(\"Class of B object\")\n",
        "      \n"
      ],
      "execution_count": 0,
      "outputs": []
    },
    {
      "cell_type": "code",
      "metadata": {
        "id": "f8x9DGuLpGAl",
        "colab_type": "code",
        "colab": {}
      },
      "source": [
        "class C(A,B):\n",
        "  def result(self):\n",
        "    A.test();\n",
        "    B.test();\n",
        "\n",
        "    \n",
        "\n"
      ],
      "execution_count": 0,
      "outputs": []
    },
    {
      "cell_type": "code",
      "metadata": {
        "id": "wL7TaOLgpJO6",
        "colab_type": "code",
        "colab": {
          "base_uri": "https://localhost:8080/",
          "height": 50
        },
        "outputId": "784ae0a9-c6c9-4746-cae5-18c8024a0b1f"
      },
      "source": [
        "R=A()\n",
        "S=B()\n",
        "I=C()\n",
        "I.result()"
      ],
      "execution_count": 54,
      "outputs": [
        {
          "output_type": "stream",
          "text": [
            "Class of A object\n",
            "Class of B object\n"
          ],
          "name": "stdout"
        }
      ]
    },
    {
      "cell_type": "code",
      "metadata": {
        "id": "BjG_PVly1qt8",
        "colab_type": "code",
        "colab": {}
      },
      "source": [
        ""
      ],
      "execution_count": 0,
      "outputs": []
    }
  ]
}